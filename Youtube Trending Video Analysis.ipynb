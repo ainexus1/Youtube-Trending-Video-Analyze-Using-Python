{
 "cells": [
  {
   "cell_type": "code",
   "execution_count": null,
   "id": "eed151f9-08e0-436d-9b00-d2498b3f8fd6",
   "metadata": {},
   "outputs": [],
   "source": [
    "import pandas as pd\n",
    "import numpy as np\n",
    "import matplotlib as mpl\n",
    "from matplotlib import pyplot as plt\n",
    "import seaborn as sns\n",
    "\n",
    "import warnings\n",
    "from collections import Counter \n",
    "import datetime\n",
    "import wordcloud\n",
    "import json"
   ]
  },
  {
   "cell_type": "code",
   "execution_count": null,
   "id": "37c13588-12d6-4349-a117-fa9334bcd7a7",
   "metadata": {},
   "outputs": [],
   "source": [
    "df = pd.read_csv(\"\")#Place your dataset here"
   ]
  },
  {
   "cell_type": "code",
   "execution_count": null,
   "id": "10587c2d-56d6-4bbe-b8fb-9b652ec850c9",
   "metadata": {},
   "outputs": [],
   "source": [
    "df.head(10)"
   ]
  },
  {
   "cell_type": "code",
   "execution_count": null,
   "id": "e390b3d8-77cc-46ed-9a7c-d2663ccdffba",
   "metadata": {},
   "outputs": [],
   "source": [
    "PLOT_COLORS = ['#268b2', '#0052CC', '#FF5722', '#b258900', '#003f5c']\n",
    "pd.options.display.float_format = '{:.2f}'.format\n",
    "sns.set(style=\"ticks\")\n",
    "plt.rc('figure', figsize=(8, 5), dpi=100)\n",
    "plt.rc('axes', labelpad=20, facecolor=\"#ffffff\", linewidth=0.4, grid= True, labelsize=14)\n",
    "plt.rc('patch', linewidth=0)\n",
    "plt.rc('xtick.major', width=0.2)\n",
    "plt.rc('ytick.major', width=0.2)\n",
    "plt.rc('grid', color='#9E9E9E', linewidth=0.4)\n",
    "plt.rc('font', family='Arial', weight='400', size=10)\n",
    "plt.rc('text', color='#282828')\n",
    "plt.rc('savefig', pad_inches=0.3, dpi=300)"
   ]
  },
  {
   "cell_type": "code",
   "execution_count": null,
   "id": "cca70ddb-b39a-4cde-91d3-8a4bd626adff",
   "metadata": {},
   "outputs": [],
   "source": [
    "#data exploration\n",
    "df[\"Description\"] = df[\"Description\"].fillna(value=\"\")\n",
    "df[\"Title\"] = df[\"Title\"].fillna(value=\"\")\n",
    "df[\"Videourl\"] = df[\"Videourl\"].fillna(value=\"\")\n",
    "df[\"Category\"] = df[\"Category\"].fillna(value=\"\")"
   ]
  },
  {
   "cell_type": "code",
   "execution_count": null,
   "id": "4c62797e-1a3a-48bd-b1d7-1e81cb1bdaa7",
   "metadata": {},
   "outputs": [],
   "source": [
    "df.describe()"
   ]
  },
  {
   "cell_type": "code",
   "execution_count": null,
   "id": "00dc9e1d-cb14-408e-b6fe-44bd60c12bb4",
   "metadata": {},
   "outputs": [],
   "source": [
    "# Data visualization\n",
    "def contains_capitalized_word(s):\n",
    "    for w in s.split():\n",
    "        if w.isupper():\n",
    "            return True\n",
    "    return False\n",
    "\n",
    "df[\"contains_capitalized\"] = df[\"Title\"].apply(contains_capitalized_word)\n",
    "value_counts = df[\"contains_capitalized\"].value_counts().to_dict()\n",
    "fig, ax = plt.subplots()\n",
    "_ = ax.pie([value_counts[False], value_counts[True]], labels=['No', 'Yes'],\n",
    "           colors=['#003f5c', '#ffa600'], textprops={'color': '#040204'}, startangle=45)\n",
    "_ = ax.axis('equal')\n",
    "_ = ax.set_title('Title Contains Capitalized Word?')"
   ]
  },
  {
   "cell_type": "code",
   "execution_count": null,
   "id": "edf6961a-579b-40c2-9e92-a5017e1d906e",
   "metadata": {},
   "outputs": [],
   "source": [
    "df[\"title_length\"] = df[\"Title\"].apply(lambda x: len(x))\n",
    "\n",
    "fig, ax = plt.subplots()\n",
    "_ = sns.histplot(df[\"title_length\"], kde=False, color=PLOT_COLORS[4], alpha=1, ax=ax)\n",
    "_ = ax.set(xlabel=\"Title Length\", ylabel=\"Video Count\", xticks=range(0, 110, 10))"
   ]
  },
  {
   "cell_type": "code",
   "execution_count": null,
   "id": "b84542a4-89ae-4630-b08c-59e2e7b26a74",
   "metadata": {},
   "outputs": [],
   "source": [
    "# Select only numeric columns for correlation calculation\n",
    "numeric_columns = df.select_dtypes(include=['number', 'bool'])\n",
    "\n",
    "h_labels = [x.replace('_', '').title() for x in list(numeric_columns.columns.values)]\n",
    "\n",
    "fig, ax = plt.subplots(figsize=(10, 6))\n",
    "_ = sns.heatmap(numeric_columns.corr(), annot=True, xticklabels=h_labels, yticklabels=h_labels, cmap=sns.cubehelix_palette(as_cmap=True), ax=ax)"
   ]
  }
 ],
 "metadata": {
  "kernelspec": {
   "display_name": "Python 3 (ipykernel)",
   "language": "python",
   "name": "python3"
  },
  "language_info": {
   "codemirror_mode": {
    "name": "ipython",
    "version": 3
   },
   "file_extension": ".py",
   "mimetype": "text/x-python",
   "name": "python",
   "nbconvert_exporter": "python",
   "pygments_lexer": "ipython3",
   "version": "3.11.5"
  }
 },
 "nbformat": 4,
 "nbformat_minor": 5
}
